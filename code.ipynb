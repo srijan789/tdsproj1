{
 "cells": [
  {
   "cell_type": "code",
   "execution_count": null,
   "metadata": {
    "id": "wKnf6iBec6Sr"
   },
   "outputs": [],
   "source": [
    "#users.csv\n",
    "import requests\n",
    "import csv\n",
    "\n",
    "# Replace with your personal access token\n",
    "GITHUB_TOKEN = ''\n",
    "HEADERS = {'Authorization': f'token {GITHUB_TOKEN}'}\n",
    "BASE_URL = 'https://api.github.com'\n",
    "\n",
    "def get_users_in_bangalore():\n",
    "    users = []\n",
    "    page = 1\n",
    "\n",
    "    while True:\n",
    "        response = requests.get(f'{BASE_URL}/search/users',\n",
    "                                headers=HEADERS,\n",
    "                                params={'q': 'location:Toronto followers:>100', 'page': page})\n",
    "        data = response.json()\n",
    "\n",
    "        if 'items' not in data or not data['items']:\n",
    "            break\n",
    "\n",
    "        for user in data['items']:\n",
    "            users.append(user['login'])\n",
    "\n",
    "        page += 1\n",
    "\n",
    "    return users\n",
    "\n",
    "def get_user_details(username):\n",
    "    response = requests.get(f'{BASE_URL}/users/{username}', headers=HEADERS)\n",
    "    return response.json()\n",
    "\n",
    "def clean_company(company):\n",
    "    if company:\n",
    "        return company.strip().lstrip('@').upper()\n",
    "    return None\n",
    "\n",
    "def main():\n",
    "    users = get_users_in_bangalore()\n",
    "    user_details = []\n",
    "\n",
    "    for user in users:\n",
    "        details = get_user_details(user)\n",
    "        user_details.append({\n",
    "            'login': details.get('login'),\n",
    "            'name': details.get('name'),\n",
    "            'company': clean_company(details.get('company')),\n",
    "            'location': details.get('location'),\n",
    "            'email': details.get('email'),\n",
    "            'hireable': details.get('hireable'),\n",
    "            'bio': details.get('bio'),\n",
    "            'public_repos': details.get('public_repos'),\n",
    "            'followers': details.get('followers'),\n",
    "            'following': details.get('following'),\n",
    "            'created_at': details.get('created_at'),\n",
    "        })\n",
    "\n",
    "    # Write to CSV\n",
    "    with open('users.csv', 'w', newline='', encoding='utf-8') as csvfile:\n",
    "        fieldnames = ['login', 'name', 'company', 'location', 'email',\n",
    "                      'hireable', 'bio', 'public_repos', 'followers',\n",
    "                      'following', 'created_at']\n",
    "        writer = csv.DictWriter(csvfile, fieldnames=fieldnames)\n",
    "        writer.writeheader()\n",
    "        for user in user_details:\n",
    "            writer.writerow(user)\n",
    "\n",
    "if __name__ == '__main__':\n",
    "    main()\n"
   ]
  },
  {
   "cell_type": "code",
   "execution_count": 1,
   "metadata": {
    "colab": {
     "base_uri": "https://localhost:8080/"
    },
    "id": "cuaQL_mZrBU1",
    "outputId": "da458140-f4fe-429f-d5a9-67447b62e4bd"
   },
   "outputs": [
    {
     "name": "stdout",
     "output_type": "stream",
     "text": [
      "Company names cleaned and saved to users.csv.\n"
     ]
    }
   ],
   "source": [
    "#more cleaned users.csv\n",
    "import pandas as pd\n",
    "\n",
    "# Load the data\n",
    "users_df = pd.read_csv('users.csv')\n",
    "\n",
    "# Clean the company names\n",
    "users_df['company'] = users_df['company'].str.strip()  # Trim whitespace\n",
    "users_df['company'] = users_df['company'].str.lstrip('@')  # Strip leading '@'\n",
    "users_df['company'] = users_df['company'].str.upper()  # Convert to uppercase\n",
    "\n",
    "# Save the cleaned DataFrame back to users.csv\n",
    "users_df.to_csv('users.csv', index=False)\n",
    "\n",
    "print(\"Company names cleaned and saved to users.csv.\")\n"
   ]
  },
  {
   "cell_type": "code",
   "execution_count": null,
   "metadata": {
    "id": "iqENI4TufvGy"
   },
   "outputs": [],
   "source": [
    "#repositories.csv\n",
    "import requests\n",
    "import csv\n",
    "\n",
    "# Replace with your personal access token\n",
    "GITHUB_TOKEN = ''\n",
    "HEADERS = {'Authorization': f'token {GITHUB_TOKEN}'}\n",
    "BASE_URL = 'https://api.github.com'\n",
    "\n",
    "def read_users_from_csv(file_path):\n",
    "    users = []\n",
    "    with open(file_path, 'r', encoding='utf-8') as csvfile:\n",
    "        reader = csv.DictReader(csvfile)\n",
    "        for row in reader:\n",
    "            users.append(row['login'])\n",
    "    return users\n",
    "\n",
    "def get_repositories(username):\n",
    "    repos = []\n",
    "    page = 1\n",
    "    while True:\n",
    "        response = requests.get(f'{BASE_URL}/users/{username}/repos',\n",
    "                                headers=HEADERS,\n",
    "                                params={'sort': 'pushed', 'direction': 'desc', 'per_page': 100, 'page': page})\n",
    "        data = response.json()\n",
    "\n",
    "        if not data or len(repos) >= 500:\n",
    "            break\n",
    "\n",
    "        for repo in data:\n",
    "            repos.append({\n",
    "                'full_name': repo['full_name'],\n",
    "                'created_at': repo['created_at'],\n",
    "                'stargazers_count': repo['stargazers_count'],\n",
    "                'watchers_count': repo['watchers_count'],\n",
    "                'language': repo['language'],\n",
    "                'has_projects': repo['has_projects'],\n",
    "                'has_wiki': repo['has_wiki'],\n",
    "                'license_name': repo['license']['key'] if repo.get('license') else None  # Safely fetch license key\n",
    "            })\n",
    "\n",
    "        page += 1\n",
    "\n",
    "    return repos[:500]  # Return up to 500 repos\n",
    "\n",
    "def main():\n",
    "    users = read_users_from_csv('users.csv')\n",
    "    all_repos = []\n",
    "\n",
    "    for user in users:\n",
    "        repos = get_repositories(user)\n",
    "        for repo in repos:\n",
    "            all_repos.append({\n",
    "                'login': user,\n",
    "                **repo\n",
    "            })\n",
    "\n",
    "    # Write to CSV\n",
    "    with open('repositories.csv', 'w', newline='', encoding='utf-8') as csvfile:\n",
    "        fieldnames = ['login', 'full_name', 'created_at',\n",
    "                      'stargazers_count', 'watchers_count',\n",
    "                      'language', 'has_projects',\n",
    "                      'has_wiki', 'license_name']\n",
    "        writer = csv.DictWriter(csvfile, fieldnames=fieldnames)\n",
    "        writer.writeheader()\n",
    "        for repo in all_repos:\n",
    "            writer.writerow(repo)\n",
    "\n",
    "if __name__ == '__main__':\n",
    "    main()\n"
   ]
  },
  {
   "cell_type": "code",
   "execution_count": 5,
   "metadata": {
    "colab": {
     "base_uri": "https://localhost:8080/"
    },
    "id": "X7CkS3Zam87L",
    "outputId": "129e0987-13e1-4ca3-cd80-64c290e3683d"
   },
   "outputs": [
    {
     "name": "stdout",
     "output_type": "stream",
     "text": [
      "aneagoie, ZhangMYihua, susanli2016, thedaviddias, ange-yaghi\n"
     ]
    }
   ],
   "source": [
    "#Q1\n",
    "import pandas as pd\n",
    "\n",
    "# Load the data\n",
    "users_df = pd.read_csv('users.csv')\n",
    "\n",
    "# Sort by followers and get top 5\n",
    "top_users = users_df.sort_values(by='followers', ascending=False).head(5)\n",
    "\n",
    "# Extract logins\n",
    "top_logins = top_users['login'].tolist()\n",
    "result = ', '.join(top_logins)\n",
    "\n",
    "print(result)\n"
   ]
  },
  {
   "cell_type": "code",
   "execution_count": 6,
   "metadata": {
    "colab": {
     "base_uri": "https://localhost:8080/"
    },
    "id": "jVT8tVpipe8W",
    "outputId": "626f4368-cf8c-464f-ce8c-a2ecf07a35cb"
   },
   "outputs": [
    {
     "name": "stdout",
     "output_type": "stream",
     "text": [
      "jamesmacaulay, michaelklishin, myles, nwjsmith, vito\n"
     ]
    }
   ],
   "source": [
    "#Q2\n",
    "import pandas as pd\n",
    "\n",
    "# Load the data\n",
    "users_df = pd.read_csv('users.csv')\n",
    "\n",
    "# Convert created_at to datetime\n",
    "users_df['created_at'] = pd.to_datetime(users_df['created_at'])\n",
    "\n",
    "# Sort by created_at and get the earliest 5 users\n",
    "earliest_users = users_df.sort_values(by='created_at').head(5)\n",
    "\n",
    "# Extract logins\n",
    "earliest_logins = earliest_users['login'].tolist()\n",
    "result = ', '.join(earliest_logins)\n",
    "\n",
    "print(result)\n"
   ]
  },
  {
   "cell_type": "code",
   "execution_count": 7,
   "metadata": {
    "colab": {
     "base_uri": "https://localhost:8080/"
    },
    "id": "0v3-8fq7p5qY",
    "outputId": "566ade50-0e3b-4cc4-e570-31d281a99e09"
   },
   "outputs": [
    {
     "name": "stdout",
     "output_type": "stream",
     "text": [
      "mit, other, apache-2.0\n"
     ]
    }
   ],
   "source": [
    "#Q3\n",
    "import pandas as pd\n",
    "\n",
    "# Load the data\n",
    "repositories_df = pd.read_csv('repositories.csv')\n",
    "\n",
    "# Filter out missing license names\n",
    "repositories_df = repositories_df[repositories_df['license_name'].notna()]\n",
    "\n",
    "# Count occurrences of each license\n",
    "license_counts = repositories_df['license_name'].value_counts()\n",
    "\n",
    "# Get the top 3 licenses\n",
    "top_licenses = license_counts.head(3).index.tolist()\n",
    "\n",
    "# Join the license names in order\n",
    "result = ', '.join(top_licenses)\n",
    "\n",
    "print(result)\n"
   ]
  },
  {
   "cell_type": "code",
   "execution_count": 8,
   "metadata": {
    "colab": {
     "base_uri": "https://localhost:8080/"
    },
    "id": "zPFLL9pdrI7h",
    "outputId": "7642a0a3-b67f-4e06-b467-9973c3e0e2be"
   },
   "outputs": [
    {
     "name": "stdout",
     "output_type": "stream",
     "text": [
      "The majority of developers work at: UNIVERSITY OF TORONTO with 21 developers.\n"
     ]
    }
   ],
   "source": [
    "#Q4\n",
    "import pandas as pd\n",
    "\n",
    "# Load the data\n",
    "users_df = pd.read_csv('users.csv')\n",
    "\n",
    "# Count occurrences of each company\n",
    "company_counts = users_df['company'].value_counts()\n",
    "\n",
    "# Get the company with the highest count\n",
    "most_common_company = company_counts.idxmax()\n",
    "most_common_count = company_counts.max()\n",
    "\n",
    "print(f\"The majority of developers work at: {most_common_company} with {most_common_count} developers.\")\n"
   ]
  },
  {
   "cell_type": "code",
   "execution_count": 9,
   "metadata": {
    "colab": {
     "base_uri": "https://localhost:8080/"
    },
    "id": "tUbmeG3KrTqI",
    "outputId": "86c9fe8b-1451-4f41-818b-8ce5f4d9b6a1"
   },
   "outputs": [
    {
     "name": "stdout",
     "output_type": "stream",
     "text": [
      "The most popular programming language is: JavaScript with 10716 repositories.\n"
     ]
    }
   ],
   "source": [
    "#Q5\n",
    "import pandas as pd\n",
    "\n",
    "# Load the data\n",
    "repositories_df = pd.read_csv('repositories.csv')\n",
    "\n",
    "# Count occurrences of each programming language, ignoring missing values\n",
    "language_counts = repositories_df['language'].value_counts()\n",
    "\n",
    "# Get the most popular programming language\n",
    "most_popular_language = language_counts.idxmax()\n",
    "most_popular_count = language_counts.max()\n",
    "\n",
    "print(f\"The most popular programming language is: {most_popular_language} with {most_popular_count} repositories.\")\n"
   ]
  },
  {
   "cell_type": "code",
   "execution_count": 10,
   "metadata": {
    "colab": {
     "base_uri": "https://localhost:8080/"
    },
    "id": "7JUqfwgare6t",
    "outputId": "8c559432-7e25-4bf0-ede5-4a5a3928ea83"
   },
   "outputs": [
    {
     "name": "stdout",
     "output_type": "stream",
     "text": [
      "The second most popular programming language among users who joined after 2020 is: TypeScript with 207 repositories.\n"
     ]
    }
   ],
   "source": [
    "#Q6\n",
    "import pandas as pd\n",
    "\n",
    "# Load the data\n",
    "users_df = pd.read_csv('users.csv')\n",
    "repositories_df = pd.read_csv('repositories.csv')\n",
    "\n",
    "# Convert created_at to datetime and filter users who joined after 2020\n",
    "users_df['created_at'] = pd.to_datetime(users_df['created_at'])\n",
    "recent_users = users_df[users_df['created_at'] > '2020-01-01']\n",
    "\n",
    "# Get the logins of recent users\n",
    "recent_user_logins = recent_users['login'].tolist()\n",
    "\n",
    "# Filter repositories by these users\n",
    "recent_repositories = repositories_df[repositories_df['login'].isin(recent_user_logins)]\n",
    "\n",
    "# Count occurrences of each programming language\n",
    "language_counts = recent_repositories['language'].value_counts()\n",
    "\n",
    "# Get the second most popular programming language\n",
    "second_most_popular_language = language_counts.nlargest(2).index[1]\n",
    "second_most_popular_count = language_counts.nlargest(2).values[1]\n",
    "\n",
    "print(f\"The second most popular programming language among users who joined after 2020 is: {second_most_popular_language} with {second_most_popular_count} repositories.\")\n"
   ]
  },
  {
   "cell_type": "code",
   "execution_count": 11,
   "metadata": {
    "colab": {
     "base_uri": "https://localhost:8080/"
    },
    "id": "aowu8SiZrp_P",
    "outputId": "96f13809-5ba9-4cd4-df6f-766b81761421"
   },
   "outputs": [
    {
     "name": "stdout",
     "output_type": "stream",
     "text": [
      "The programming language with the highest average number of stars per repository is: Cython with an average of 1781.17 stars.\n"
     ]
    }
   ],
   "source": [
    "#Q7\n",
    "import pandas as pd\n",
    "\n",
    "# Load the data\n",
    "repositories_df = pd.read_csv('repositories.csv')\n",
    "\n",
    "# Group by programming language and calculate the average stars\n",
    "average_stars = repositories_df.groupby('language')['stargazers_count'].mean()\n",
    "\n",
    "# Identify the language with the highest average stars\n",
    "highest_average_language = average_stars.idxmax()\n",
    "highest_average_value = average_stars.max()\n",
    "\n",
    "print(f\"The programming language with the highest average number of stars per repository is: {highest_average_language} with an average of {highest_average_value:.2f} stars.\")\n"
   ]
  },
  {
   "cell_type": "code",
   "execution_count": 12,
   "metadata": {
    "colab": {
     "base_uri": "https://localhost:8080/"
    },
    "id": "Oy6f8ZBcr4xS",
    "outputId": "07e4650b-2f6a-46ac-c3a3-a2fe8d3e830a"
   },
   "outputs": [
    {
     "name": "stdout",
     "output_type": "stream",
     "text": [
      "aneagoie, nayuki, GrapheneOS, hlissner, rspivak\n"
     ]
    }
   ],
   "source": [
    "#Q8\n",
    "import pandas as pd\n",
    "\n",
    "# Load the data\n",
    "users_df = pd.read_csv('users.csv')\n",
    "\n",
    "# Calculate leader_strength\n",
    "users_df['leader_strength'] = users_df['followers'] / (1 + users_df['following'])\n",
    "\n",
    "# Sort by leader_strength and get the top 5\n",
    "top_leaders = users_df.sort_values(by='leader_strength', ascending=False).head(5)\n",
    "\n",
    "# Extract logins\n",
    "top_logins = top_leaders['login'].tolist()\n",
    "result = ', '.join(top_logins)\n",
    "\n",
    "print(result)\n"
   ]
  },
  {
   "cell_type": "code",
   "execution_count": 13,
   "metadata": {
    "colab": {
     "base_uri": "https://localhost:8080/"
    },
    "id": "b17bFXSwsSsP",
    "outputId": "07c71fae-3422-4b44-cf6a-37723ed0cc97"
   },
   "outputs": [
    {
     "name": "stdout",
     "output_type": "stream",
     "text": [
      "The correlation between the number of followers and the number of public repositories is: 0.056\n"
     ]
    }
   ],
   "source": [
    "#Q9\n",
    "import pandas as pd\n",
    "\n",
    "# Load the data\n",
    "users_df = pd.read_csv('users.csv')\n",
    "\n",
    "# Calculate the correlation between followers and public repositories\n",
    "correlation = users_df['followers'].corr(users_df['public_repos'])\n",
    "\n",
    "print(f\"The correlation between the number of followers and the number of public repositories is: {correlation:.3f}\")\n"
   ]
  },
  {
   "cell_type": "code",
   "execution_count": 28,
   "metadata": {
    "colab": {
     "base_uri": "https://localhost:8080/"
    },
    "id": "1kT3YZzPsoBw",
    "outputId": "86b62195-b5ce-4221-d36f-771648a4f7eb"
   },
   "outputs": [
    {
     "name": "stdout",
     "output_type": "stream",
     "text": [
      "Regression Results:\n",
      "                            OLS Regression Results                            \n",
      "==============================================================================\n",
      "Dep. Variable:              followers   R-squared:                       0.003\n",
      "Model:                            OLS   Adj. R-squared:                  0.002\n",
      "Method:                 Least Squares   F-statistic:                     2.112\n",
      "Date:                Thu, 31 Oct 2024   Prob (F-statistic):              0.147\n",
      "Time:                        23:12:35   Log-Likelihood:                -5432.2\n",
      "No. Observations:                 685   AIC:                         1.087e+04\n",
      "Df Residuals:                     683   BIC:                         1.088e+04\n",
      "Df Model:                           1                                         \n",
      "Covariance Type:            nonrobust                                         \n",
      "================================================================================\n",
      "                   coef    std err          t      P>|t|      [0.025      0.975]\n",
      "--------------------------------------------------------------------------------\n",
      "const          353.4133     29.947     11.801      0.000     294.615     412.212\n",
      "public_repos     0.2530      0.174      1.453      0.147      -0.089       0.595\n",
      "==============================================================================\n",
      "Omnibus:                      954.374   Durbin-Watson:                   0.079\n",
      "Prob(Omnibus):                  0.000   Jarque-Bera (JB):           195772.157\n",
      "Skew:                           7.437   Prob(JB):                         0.00\n",
      "Kurtosis:                      84.474   Cond. No.                         200.\n",
      "==============================================================================\n",
      "\n",
      "Notes:\n",
      "[1] Standard Errors assume that the covariance matrix of the errors is correctly specified.\n",
      "Estimated additional followers per additional public repository: 0.253\n"
     ]
    }
   ],
   "source": [
    "#Q10\n",
    "import pandas as pd\n",
    "import statsmodels.api as sm\n",
    "\n",
    "# Load the data\n",
    "users_df = pd.read_csv('users.csv')\n",
    "\n",
    "# Define the independent variable (X) and dependent variable (Y)\n",
    "X = users_df['public_repos']\n",
    "Y = users_df['followers']\n",
    "\n",
    "# Add a constant to the independent variable (for the intercept)\n",
    "X = sm.add_constant(X)\n",
    "\n",
    "# Fit the regression model\n",
    "model = sm.OLS(Y, X).fit()\n",
    "\n",
    "# Get the summary of the regression results\n",
    "summary = model.summary()\n",
    "\n",
    "# Extract the coefficient for public_repos\n",
    "additional_followers_per_repo = model.params['public_repos']\n",
    "\n",
    "print(f\"Regression Results:\\n{summary}\")\n",
    "print(f\"Estimated additional followers per additional public repository: {additional_followers_per_repo:.3f}\")\n"
   ]
  },
  {
   "cell_type": "code",
   "execution_count": 30,
   "metadata": {
    "colab": {
     "base_uri": "https://localhost:8080/"
    },
    "id": "2_QxL3kys-_z",
    "outputId": "7db2d2fa-e64f-47b4-cb97-fbdbafd6c4dc"
   },
   "outputs": [
    {
     "name": "stdout",
     "output_type": "stream",
     "text": [
      "The correlation between having projects enabled and having a wiki enabled is: 0.3719\n"
     ]
    }
   ],
   "source": [
    "#Q11\n",
    "import pandas as pd\n",
    "\n",
    "# Load the data\n",
    "repositories_df = pd.read_csv('repositories.csv')\n",
    "\n",
    "\n",
    "# Calculate the correlation directly\n",
    "correlation = repositories_df['has_projects'].astype(int).corr(repositories_df['has_wiki'].astype(int))\n",
    "\n",
    "print(f\"The correlation between having projects enabled and having a wiki enabled is: {correlation:.4f}\")\n"
   ]
  },
  {
   "cell_type": "code",
   "execution_count": 31,
   "metadata": {
    "colab": {
     "base_uri": "https://localhost:8080/"
    },
    "id": "v0D_j97ouhM_",
    "outputId": "bac257b1-8ff5-4339-bf4a-3f15ba613b58"
   },
   "outputs": [
    {
     "name": "stdout",
     "output_type": "stream",
     "text": [
      "Difference in average following (hireable - non-hireable): -13.3861\n"
     ]
    }
   ],
   "source": [
    "#Q12\n",
    "import pandas as pd\n",
    "\n",
    "# Load the users data from the CSV file\n",
    "users_df = pd.read_csv('users.csv')\n",
    "\n",
    "# Filter hireable and non-hireable users\n",
    "hireable_users = users_df[users_df['hireable'] == True]\n",
    "non_hireable_users = users_df[users_df['hireable'].isna() | (users_df['hireable'] == False)]\n",
    "\n",
    "# Calculate average following for both groups\n",
    "average_hireable_following = hireable_users['following'].mean()\n",
    "average_non_hireable_following = non_hireable_users['following'].mean()\n",
    "\n",
    "# Calculate the difference\n",
    "difference = average_hireable_following - average_non_hireable_following\n",
    "\n",
    "# Print the result rounded to three decimal places\n",
    "print(f'Difference in average following (hireable - non-hireable): {difference:.4f}')\n"
   ]
  },
  {
   "cell_type": "code",
   "execution_count": 23,
   "metadata": {
    "colab": {
     "base_uri": "https://localhost:8080/"
    },
    "id": "t86gGTj6uhLn",
    "outputId": "fc4feb15-bb71-4256-abaa-e61f46afbb10"
   },
   "outputs": [
    {
     "name": "stdout",
     "output_type": "stream",
     "text": [
      "Regression slope of followers on bio word count: 8.396\n"
     ]
    },
    {
     "name": "stderr",
     "output_type": "stream",
     "text": [
      "C:\\Users\\pc\\AppData\\Local\\Temp\\ipykernel_3552\\1755056196.py:14: SettingWithCopyWarning: \n",
      "A value is trying to be set on a copy of a slice from a DataFrame.\n",
      "Try using .loc[row_indexer,col_indexer] = value instead\n",
      "\n",
      "See the caveats in the documentation: https://pandas.pydata.org/pandas-docs/stable/user_guide/indexing.html#returning-a-view-versus-a-copy\n",
      "  users_with_bios['bio_word_count'] = users_with_bios['bio'].apply(lambda x: len(x.split()))\n"
     ]
    }
   ],
   "source": [
    "#Q13\n",
    "import pandas as pd\n",
    "import statsmodels.api as sm\n",
    "\n",
    "# Load the users data from the CSV file\n",
    "users_df = pd.read_csv('users.csv')\n",
    "\n",
    "# Filter out users without bios\n",
    "users_with_bios = users_df[users_df['bio'].notna()]\n",
    "\n",
    "# Calculate the length of the bio in words\n",
    "#users_with_bios['bio_word_count'] = users_with_bios['bio'].str.split(\" \").str.len()\n",
    "\n",
    "users_with_bios['bio_word_count'] = users_with_bios['bio'].apply(lambda x: len(x.split()))\n",
    "\n",
    "\n",
    "# Prepare the data for regression\n",
    "X = users_with_bios['bio_word_count']  # Independent variable\n",
    "y = users_with_bios['followers']        # Dependent variable\n",
    "\n",
    "# Add a constant to the independent variable for the regression\n",
    "X = sm.add_constant(X)\n",
    "\n",
    "# Fit the regression model\n",
    "model = sm.OLS(y, X).fit()\n",
    "\n",
    "# Get the regression slope (coefficient for bio_word_count)\n",
    "slope = model.params['bio_word_count']\n",
    "\n",
    "# Print the slope rounded to three decimal places\n",
    "print(f'Regression slope of followers on bio word count: {slope:.3f}')\n"
   ]
  },
  {
   "cell_type": "code",
   "execution_count": 21,
   "metadata": {
    "colab": {
     "base_uri": "https://localhost:8080/"
    },
    "id": "69dBDEpH3DXl",
    "outputId": "c1dc016b-b3e7-4b67-c40f-e16ecda45a9c"
   },
   "outputs": [
    {
     "name": "stdout",
     "output_type": "stream",
     "text": [
      "Top 5 users who created the most repositories on weekends: andyw8, QuinntyneBrown, invokethreatguy, rgrinberg, Devang-25\n"
     ]
    }
   ],
   "source": [
    "#Q14\n",
    "import pandas as pd\n",
    "\n",
    "# Load the repositories data from the CSV file\n",
    "repos_df = pd.read_csv('repositories.csv')\n",
    "\n",
    "# Convert the created_at column to datetime\n",
    "repos_df['created_at'] = pd.to_datetime(repos_df['created_at'])\n",
    "\n",
    "# Filter for weekend days (Saturday: 5, Sunday: 6)\n",
    "weekend_repos = repos_df[repos_df['created_at'].dt.dayofweek.isin([5, 6])]\n",
    "\n",
    "# Count the number of repositories created by each user\n",
    "top_users = weekend_repos['login'].value_counts().head(5)\n",
    "\n",
    "# Get the top 5 users' logins in order\n",
    "top_users_logins = ', '.join(top_users.index)\n",
    "\n",
    "# Print the result\n",
    "print(f'Top 5 users who created the most repositories on weekends: {top_users_logins}')\n"
   ]
  },
  {
   "cell_type": "code",
   "execution_count": 22,
   "metadata": {
    "colab": {
     "base_uri": "https://localhost:8080/"
    },
    "id": "ozqOj5bd3DWQ",
    "outputId": "2418eea9-85ef-42a3-d521-51e58e563aba"
   },
   "outputs": [
    {
     "name": "stdout",
     "output_type": "stream",
     "text": [
      "Difference in fraction of users with email: 0.135\n"
     ]
    }
   ],
   "source": [
    "#Q15\n",
    "import pandas as pd\n",
    "\n",
    "# Load the users data from the CSV file\n",
    "users_df = pd.read_csv('users.csv')\n",
    "\n",
    "# Total number of users\n",
    "total_users = len(users_df)\n",
    "\n",
    "# Filter hireable and non-hireable users\n",
    "hireable_users = users_df[users_df['hireable'] == True]\n",
    "non_hireable_users = users_df[users_df['hireable'].isna() | (users_df['hireable'] == False)]\n",
    "\n",
    "# Calculate the fraction of users with email in both groups\n",
    "fraction_hireable_with_email = hireable_users['email'].notna().mean()\n",
    "fraction_non_hireable_with_email = non_hireable_users['email'].notna().mean()\n",
    "\n",
    "# Calculate the difference\n",
    "difference = fraction_hireable_with_email - fraction_non_hireable_with_email\n",
    "\n",
    "# Print the result rounded to three decimal places\n",
    "print(f'Difference in fraction of users with email: {difference:.3f}')\n"
   ]
  },
  {
   "cell_type": "code",
   "execution_count": 35,
   "metadata": {
    "colab": {
     "base_uri": "https://localhost:8080/"
    },
    "id": "6MCRKTWM3eGI",
    "outputId": "7caf6b1e-424a-423b-8793-fdc5aa551ce3"
   },
   "outputs": [
    {
     "name": "stdout",
     "output_type": "stream",
     "text": [
      "Most common surname(s): Kumar, Singh\n",
      "Number of users with the most common surname: 21\n"
     ]
    },
    {
     "name": "stderr",
     "output_type": "stream",
     "text": [
      "<ipython-input-35-b00a37d357b7>:10: SettingWithCopyWarning: \n",
      "A value is trying to be set on a copy of a slice from a DataFrame.\n",
      "Try using .loc[row_indexer,col_indexer] = value instead\n",
      "\n",
      "See the caveats in the documentation: https://pandas.pydata.org/pandas-docs/stable/user_guide/indexing.html#returning-a-view-versus-a-copy\n",
      "  valid_users['surname'] = valid_users['name'].str.strip().str.split().str[-1]\n"
     ]
    }
   ],
   "source": [
    "#Q16\n",
    "import pandas as pd\n",
    "\n",
    "# Load the users data from the CSV file\n",
    "users_df = pd.read_csv('users.csv')\n",
    "\n",
    "# Filter out users without names\n",
    "valid_users = users_df[users_df['name'].notna()]\n",
    "\n",
    "# Extract surnames (last word in name)\n",
    "valid_users['surname'] = valid_users['name'].str.strip().str.split().str[-1]\n",
    "\n",
    "# Count occurrences of each surname\n",
    "surname_counts = valid_users['surname'].value_counts()\n",
    "\n",
    "# Find the most common surname(s)\n",
    "max_count = surname_counts.max()\n",
    "most_common_surnames = surname_counts[surname_counts == max_count].index.tolist()\n",
    "\n",
    "# Sort surnames alphabetically\n",
    "most_common_surnames.sort()\n",
    "\n",
    "# Count users with the most common surname\n",
    "number_of_users = max_count\n",
    "\n",
    "# Print results\n",
    "most_common_surnames_str = ', '.join(most_common_surnames)\n",
    "print(f'Most common surname(s): {most_common_surnames_str}')\n",
    "print(f'Number of users with the most common surname: {number_of_users}')\n"
   ]
  },
  {
   "cell_type": "markdown",
   "metadata": {
    "id": "hYYOmo-ND2ep"
   },
   "source": [
    "Wrong Answers In Q11, 12, 15 > because In Original Files, Booleans are True/False . We have to upload Booleans as true/false in github repo. Run Scripts below and then upload resulting files to github."
   ]
  },
  {
   "cell_type": "code",
   "execution_count": null,
   "metadata": {
    "id": "ICA9p7MoNx23"
   },
   "outputs": [],
   "source": []
  },
  {
   "cell_type": "code",
   "execution_count": 26,
   "metadata": {
    "colab": {
     "base_uri": "https://localhost:8080/"
    },
    "id": "AHb14gzTJIXy",
    "outputId": "91c6a15f-1dae-4b85-8ee5-3a41cd6e3c71"
   },
   "outputs": [
    {
     "name": "stdout",
     "output_type": "stream",
     "text": [
      "      login                                  full_name            created_at  \\\n",
      "0  aneagoie                     aneagoie/ztm-extension  2023-12-15T13:32:57Z   \n",
      "1  aneagoie                          aneagoie/ML-Notes  2019-09-28T02:31:10Z   \n",
      "2  aneagoie  aneagoie/smart-brain-boost-api-dockerized  2018-04-12T18:44:49Z   \n",
      "3  aneagoie             aneagoie/smart-brain-boost-api  2018-04-09T18:46:06Z   \n",
      "4  aneagoie          aneagoie/smart-brain-boost-lambda  2018-04-15T17:02:27Z   \n",
      "\n",
      "   stargazers_count  watchers_count          language  has_projects  has_wiki  \\\n",
      "0                 3               3        JavaScript          True     False   \n",
      "1                60              60  Jupyter Notebook          True      True   \n",
      "2                55              55        JavaScript          True      True   \n",
      "3                14              14        JavaScript          True      True   \n",
      "4                20              20        JavaScript          True      True   \n",
      "\n",
      "  license_name  \n",
      "0          mit  \n",
      "1          NaN  \n",
      "2          NaN  \n",
      "3          NaN  \n",
      "4          NaN  \n",
      "      login                                  full_name            created_at  \\\n",
      "0  aneagoie                     aneagoie/ztm-extension  2023-12-15T13:32:57Z   \n",
      "1  aneagoie                          aneagoie/ML-Notes  2019-09-28T02:31:10Z   \n",
      "2  aneagoie  aneagoie/smart-brain-boost-api-dockerized  2018-04-12T18:44:49Z   \n",
      "3  aneagoie             aneagoie/smart-brain-boost-api  2018-04-09T18:46:06Z   \n",
      "4  aneagoie          aneagoie/smart-brain-boost-lambda  2018-04-15T17:02:27Z   \n",
      "\n",
      "   stargazers_count  watchers_count          language has_projects has_wiki  \\\n",
      "0                 3               3        JavaScript         true    false   \n",
      "1                60              60  Jupyter Notebook         true     true   \n",
      "2                55              55        JavaScript         true     true   \n",
      "3                14              14        JavaScript         true     true   \n",
      "4                20              20        JavaScript         true     true   \n",
      "\n",
      "  license_name  \n",
      "0          mit  \n",
      "1          NaN  \n",
      "2          NaN  \n",
      "3          NaN  \n",
      "4          NaN  \n",
      "Updated CSV file saved successfully.\n"
     ]
    }
   ],
   "source": [
    "\n",
    "repositories_df = pd.read_csv('repositories.csv')\n",
    "\n",
    "# Check the data types and structure\n",
    "print(repositories_df.head())\n",
    "\n",
    "# Replace True/False with true/false\n",
    "repositories_df['has_projects'] = repositories_df['has_projects'].replace({True: 'true', False: 'false'})\n",
    "repositories_df['has_wiki'] = repositories_df['has_wiki'].replace({True: 'true', False: 'false'})\n",
    "\n",
    "# Save the modified DataFrame back to the same CSV file\n",
    "repositories_df.to_csv('repositories.csv', index=False)\n",
    "\n",
    "# Check the data types and structure\n",
    "print(repositories_df.head())\n",
    "\n",
    "print(\"Updated CSV file saved successfully.\")\n"
   ]
  },
  {
   "cell_type": "code",
   "execution_count": 27,
   "metadata": {
    "colab": {
     "base_uri": "https://localhost:8080/"
    },
    "id": "TcHTWbzuJVDX",
    "outputId": "89c50de0-fbab-4f1d-edbe-8260fa3c88d2"
   },
   "outputs": [
    {
     "name": "stdout",
     "output_type": "stream",
     "text": [
      "          login            name   company         location  \\\n",
      "0      aneagoie  Andrei Neagoie       NaN  Toronto, Canada   \n",
      "1   ZhangMYihua     Yihua Zhang       NaN          Toronto   \n",
      "2   susanli2016        Susan Li       NaN   Toronto Canada   \n",
      "3  thedaviddias      David Dias  KIJIJICA  Toronto, Canada   \n",
      "4    ange-yaghi      Ange Yaghi       NaN          Toronto   \n",
      "\n",
      "                   email hireable  \\\n",
      "0                    NaN     True   \n",
      "1  yihuazhang2@gmail.com      NaN   \n",
      "2                    NaN      NaN   \n",
      "3                    NaN      NaN   \n",
      "4       me@angeyaghi.com      NaN   \n",
      "\n",
      "                                                 bio  public_repos  followers  \\\n",
      "0  Senior Software Dev turned Instructor. Founder...           145      10281   \n",
      "1                         Toronto Software Developer           143       5802   \n",
      "2                               Chief Data Scientist            34       4920   \n",
      "3  💻 Passionate Front-End Dev & 🎨 UI/UX fan. Cont...            88       4548   \n",
      "4                                      C++ Developer            32       4027   \n",
      "\n",
      "   following            created_at  \n",
      "0          1  2015-01-30T17:05:43Z  \n",
      "1         11  2015-01-18T00:01:02Z  \n",
      "2         68  2016-11-28T04:22:39Z  \n",
      "3        303  2010-04-05T14:40:12Z  \n",
      "4         11  2016-07-13T21:01:21Z  \n",
      "          login            name   company         location  \\\n",
      "0      aneagoie  Andrei Neagoie       NaN  Toronto, Canada   \n",
      "1   ZhangMYihua     Yihua Zhang       NaN          Toronto   \n",
      "2   susanli2016        Susan Li       NaN   Toronto Canada   \n",
      "3  thedaviddias      David Dias  KIJIJICA  Toronto, Canada   \n",
      "4    ange-yaghi      Ange Yaghi       NaN          Toronto   \n",
      "\n",
      "                   email hireable  \\\n",
      "0                    NaN     true   \n",
      "1  yihuazhang2@gmail.com      NaN   \n",
      "2                    NaN      NaN   \n",
      "3                    NaN      NaN   \n",
      "4       me@angeyaghi.com      NaN   \n",
      "\n",
      "                                                 bio  public_repos  followers  \\\n",
      "0  Senior Software Dev turned Instructor. Founder...           145      10281   \n",
      "1                         Toronto Software Developer           143       5802   \n",
      "2                               Chief Data Scientist            34       4920   \n",
      "3  💻 Passionate Front-End Dev & 🎨 UI/UX fan. Cont...            88       4548   \n",
      "4                                      C++ Developer            32       4027   \n",
      "\n",
      "   following            created_at  \n",
      "0          1  2015-01-30T17:05:43Z  \n",
      "1         11  2015-01-18T00:01:02Z  \n",
      "2         68  2016-11-28T04:22:39Z  \n",
      "3        303  2010-04-05T14:40:12Z  \n",
      "4         11  2016-07-13T21:01:21Z  \n",
      "Updated CSV file saved successfully.\n"
     ]
    }
   ],
   "source": [
    "users_df = pd.read_csv('users.csv')\n",
    "\n",
    "# Check the data types and structure\n",
    "print(users_df.head())\n",
    "\n",
    "# Replace True/False with true/false in the hireable column\n",
    "users_df['hireable'] = users_df['hireable'].replace({True: 'true', False: 'false'})\n",
    "\n",
    "# Save the modified DataFrame back to the same CSV file\n",
    "users_df.to_csv('users.csv', index=False)\n",
    "\n",
    "# Check the data types and structure\n",
    "print(users_df.head())\n",
    "\n",
    "\n",
    "print(\"Updated CSV file saved successfully.\")\n",
    "\n"
   ]
  },
  {
   "cell_type": "code",
   "execution_count": null,
   "metadata": {},
   "outputs": [],
   "source": []
  }
 ],
 "metadata": {
  "colab": {
   "provenance": []
  },
  "kernelspec": {
   "display_name": ".venv",
   "language": "python",
   "name": "python3"
  },
  "language_info": {
   "codemirror_mode": {
    "name": "ipython",
    "version": 3
   },
   "file_extension": ".py",
   "mimetype": "text/x-python",
   "name": "python",
   "nbconvert_exporter": "python",
   "pygments_lexer": "ipython3",
   "version": "3.10.14"
  }
 },
 "nbformat": 4,
 "nbformat_minor": 0
}
